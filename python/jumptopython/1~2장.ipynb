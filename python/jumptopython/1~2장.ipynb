{
 "cells": [
  {
   "cell_type": "markdown",
   "id": "58593a66-039c-4a12-953f-1c8bc0e22cf6",
   "metadata": {},
   "source": [
    "# 출력 기초"
   ]
  },
  {
   "cell_type": "code",
   "execution_count": 3,
   "id": "c6c738ad-c1c6-4b42-b6e4-4372c1e015f9",
   "metadata": {},
   "outputs": [
    {
     "name": "stdout",
     "output_type": "stream",
     "text": [
      "줄 띄움\n"
     ]
    }
   ],
   "source": [
    "print(\"줄 띄움\", end=\"\\n\")"
   ]
  },
  {
   "cell_type": "code",
   "execution_count": 4,
   "id": "9f575a23-1dbf-4386-86b2-a5bf7a557cd1",
   "metadata": {},
   "outputs": [
    {
     "name": "stdout",
     "output_type": "stream",
     "text": [
      "내용 덮어쓰기\n"
     ]
    }
   ],
   "source": [
    "import time as t\n",
    "print(\"덮어쓰기\", end=\"\\r\")\n",
    "t.sleep(1)\n",
    "print(\"내용 덮어쓰기\")"
   ]
  },
  {
   "cell_type": "code",
   "execution_count": 6,
   "id": "50cfbf20-440b-46c1-af4e-38681af427bf",
   "metadata": {},
   "outputs": [
    {
     "name": "stdout",
     "output_type": "stream",
     "text": [
      "1-2-3\n"
     ]
    }
   ],
   "source": [
    "print(1,2,3,sep=\"-\")  # 숫자 사이에 하이픈"
   ]
  },
  {
   "cell_type": "code",
   "execution_count": 1,
   "id": "ef286ed8-6151-4060-a430-bf58b0bc6823",
   "metadata": {},
   "outputs": [
    {
     "name": "stdout",
     "output_type": "stream",
     "text": [
      "        hi\n",
      "hi        \n",
      "10 happy\n"
     ]
    }
   ],
   "source": [
    "print(\"%10s\" %\"hi\")  # 앞으로 10칸 띄우기\n",
    "print(\"%-10s\" %\"hi\")  # 뒤로 10칸 띄우기\n",
    "# %로 대입할때 쉼표 쓰지않음,\n",
    "# 2가지 값을 한번에 넣고싶을 떄\n",
    "print(\"%d %s\" %(10, \"happy\"))"
   ]
  },
  {
   "cell_type": "code",
   "execution_count": 3,
   "id": "da182935-23bd-44cc-8d39-2e0b981521af",
   "metadata": {},
   "outputs": [
    {
     "data": {
      "text/plain": [
       "'    hi    '"
      ]
     },
     "execution_count": 3,
     "metadata": {},
     "output_type": "execute_result"
    }
   ],
   "source": [
    "# 정렬\n",
    "\"{0:<10}\".format(\"hi\")  # 왼쪽정렬\n",
    "\"{0:>10}\".format(\"hi\")  # 오른쪽정렬\n",
    "\"{0:^10}\".format(\"hi\")  # 가운데정렬"
   ]
  },
  {
   "cell_type": "code",
   "execution_count": 5,
   "id": "3407efba-2d04-4e82-a5b7-5da8617a1949",
   "metadata": {},
   "outputs": [
    {
     "data": {
      "text/plain": [
       "2"
      ]
     },
     "execution_count": 5,
     "metadata": {},
     "output_type": "execute_result"
    }
   ],
   "source": [
    "# 특정문자 개수 세기\n",
    "a = \"happy\"\n",
    "a.count(\"p\")"
   ]
  },
  {
   "cell_type": "code",
   "execution_count": 7,
   "id": "ecdf2fbc-ef89-4731-97bc-8c9205d328bc",
   "metadata": {},
   "outputs": [
    {
     "name": "stdout",
     "output_type": "stream",
     "text": [
      "Life is Egg\n",
      "Life is Beautiful\n"
     ]
    }
   ],
   "source": [
    "# 문자열 바꾸기\n",
    "a = \"Life is Egg\"\n",
    "c = a.replace(\"Egg\", \"Beautiful\")  # Egg를 Beautiful로 변환\n",
    "print(a)\n",
    "print(c)"
   ]
  },
  {
   "cell_type": "markdown",
   "id": "dee21640-7c4c-4a91-9479-b53b5daecdca",
   "metadata": {},
   "source": [
    "## http 웹사이트 요청"
   ]
  },
  {
   "cell_type": "code",
   "execution_count": 6,
   "id": "67eb9161-df80-47f0-884c-218284d24c01",
   "metadata": {},
   "outputs": [
    {
     "name": "stdout",
     "output_type": "stream",
     "text": [
      "한국서 돈벌고 '나 몰라라' 코스트코… 연회비 인상률은 미국의 2배\n",
      "374\n"
     ]
    }
   ],
   "source": [
    "import requests  # http 웹사이트 소스코드 가져올때 사용하는 모듈\n",
    "url = 'https://v.daum.net/v/20250203151815463'\n",
    "res = requests.get(url).text  # url 소스코드 text로 가져오기\n",
    "print(res[374:411])  # 특정 부분만 출력\n",
    "print(res.find(\"한\"))  # \"한\"이라는 글자가 있는 위치 출력"
   ]
  },
  {
   "cell_type": "markdown",
   "id": "26e6ebb0-45cb-4ed1-81b0-cc54aa0c1946",
   "metadata": {},
   "source": [
    "# 리스트 자료형"
   ]
  },
  {
   "cell_type": "code",
   "execution_count": 11,
   "id": "9f5cf116-5ef9-4014-b1bb-b824993d9c30",
   "metadata": {},
   "outputs": [
    {
     "name": "stdout",
     "output_type": "stream",
     "text": [
      "['Life', 'is']\n",
      "Life\n",
      "is\n"
     ]
    }
   ],
   "source": [
    "a = []\n",
    "b = [1, 2, 3]\n",
    "c = [\"Life\", \"is\", \"too\", \"short\"]\n",
    "d = [1, 2, \"Life\", \"is\"]\n",
    "e = [1, 2, [\"Life\", \"is\"]]\n",
    "print(e[2])\n",
    "print(e[2][0])\n",
    "print(e[2][1])"
   ]
  },
  {
   "cell_type": "code",
   "execution_count": 12,
   "id": "a96f1d55-804c-4bf2-8206-063a641ec678",
   "metadata": {},
   "outputs": [
    {
     "name": "stdout",
     "output_type": "stream",
     "text": [
      "['Life', 'is', 'too', 'short']\n",
      "['Life', 'is', 'too']\n"
     ]
    }
   ],
   "source": [
    "# 리스트 값 삭제\n",
    "print(c)  # 원본\n",
    "del c[3]\n",
    "print(c)"
   ]
  },
  {
   "cell_type": "code",
   "execution_count": 13,
   "id": "49f212fb-ecea-491a-943c-80f4394e0c88",
   "metadata": {},
   "outputs": [
    {
     "name": "stdout",
     "output_type": "stream",
     "text": [
      "['Life', 'is', 'too']\n",
      "[]\n"
     ]
    }
   ],
   "source": [
    "# 리스트 요소 비우기\n",
    "print(c)\n",
    "c.clear()\n",
    "print(c)"
   ]
  },
  {
   "cell_type": "code",
   "execution_count": 24,
   "id": "a0df7a22-c834-48d3-b345-6f3592ba1cfb",
   "metadata": {},
   "outputs": [
    {
     "name": "stdout",
     "output_type": "stream",
     "text": [
      "[4]\n",
      "[4, 5]\n"
     ]
    }
   ],
   "source": [
    "a = []  # 리스트 초기화\n",
    "# 리스트 요소 추가\n",
    "a.append(4)\n",
    "print(a)\n",
    "a.append(5)\n",
    "print(a)"
   ]
  },
  {
   "cell_type": "code",
   "execution_count": 16,
   "id": "9245e3f3-a9af-4f3d-afe2-93ceedd4fac5",
   "metadata": {},
   "outputs": [
    {
     "name": "stdout",
     "output_type": "stream",
     "text": [
      "[11, 22, 33, 44, 55]\n"
     ]
    }
   ],
   "source": [
    "# 리스트 오름차순\n",
    "asc = [11, 44, 33, 22, 55]\n",
    "asc.sort()\n",
    "print(asc)"
   ]
  },
  {
   "cell_type": "code",
   "execution_count": 17,
   "id": "e0bdac36-d9b2-4bbb-becb-0481941338ab",
   "metadata": {},
   "outputs": [
    {
     "name": "stdout",
     "output_type": "stream",
     "text": [
      "[55, 44, 33, 22, 11]\n"
     ]
    }
   ],
   "source": [
    "# 리스트 내림차순\n",
    "desc = [11, 44, 33, 22, 55]\n",
    "desc.sort(reverse=True)\n",
    "print(desc)"
   ]
  },
  {
   "cell_type": "code",
   "execution_count": 18,
   "id": "9320b30c-f950-4974-b3cb-3217a2bf4f49",
   "metadata": {},
   "outputs": [
    {
     "name": "stdout",
     "output_type": "stream",
     "text": [
      "[55, 22, 33, 44, 11]\n"
     ]
    }
   ],
   "source": [
    "# 리스트 뒤집기\n",
    "aa = [11, 44, 33, 22, 55]\n",
    "aa.reverse()\n",
    "print(aa)"
   ]
  },
  {
   "cell_type": "code",
   "execution_count": 20,
   "id": "56363dfd-e627-4009-a85c-f73c2f964e06",
   "metadata": {},
   "outputs": [
    {
     "name": "stdout",
     "output_type": "stream",
     "text": [
      "3\n"
     ]
    }
   ],
   "source": [
    "# 인덱스 변환\n",
    "fruit = ['banana', 'kiwi', 'orange', 'melon', 'pear', 'apple', 'strawberry', 'blueberry']\n",
    "print(fruit.index('melon'))  # melon의 위치를 정수로 반환"
   ]
  },
  {
   "cell_type": "code",
   "execution_count": 25,
   "id": "7457d94c-8d11-4f34-b517-3b84034c2a30",
   "metadata": {},
   "outputs": [
    {
     "name": "stdout",
     "output_type": "stream",
     "text": [
      "[11, 22, 33, 55, 66, 77, 88]\n",
      "[11, 22, 33, 44, 55, 66, 77, 88]\n"
     ]
    }
   ],
   "source": [
    "# 특정 위치에 요소 삽입\n",
    "num = [11, 22, 33, 55, 66, 77, 88]\n",
    "print(num)\n",
    "num.insert(3, 44)  # 인덱스 값이 3인 자리에 44 대입\n",
    "print(num)"
   ]
  },
  {
   "cell_type": "code",
   "execution_count": 27,
   "id": "c8976c14-6cd5-4d0a-81de-349effbcd24a",
   "metadata": {},
   "outputs": [
    {
     "name": "stdout",
     "output_type": "stream",
     "text": [
      "[1, 3, 1, 2, 3]\n"
     ]
    }
   ],
   "source": [
    "# 리스트 요소 제거\n",
    "a = [1, 2, 3, 1, 2, 3]\n",
    "a.remove(2)  # 2라는 요소 삭제 (제일 먼저 나오는 하나만)\n",
    "print(a)"
   ]
  },
  {
   "cell_type": "code",
   "execution_count": 29,
   "id": "a0fa44e0-c5a2-4adc-8c04-5490872c6378",
   "metadata": {},
   "outputs": [
    {
     "name": "stdout",
     "output_type": "stream",
     "text": [
      "[1, 2]\n",
      "3\n"
     ]
    }
   ],
   "source": [
    "# 리스트 요소 꺼내기\n",
    "a = [1, 2, 3]\n",
    "b = a.pop()  # 마지막 요소 꺼내서 b에 넣음\n",
    "print(a)\n",
    "print(b)"
   ]
  },
  {
   "cell_type": "code",
   "execution_count": 30,
   "id": "a4085eb5-b7c7-4771-8ec7-462bf0a18c55",
   "metadata": {},
   "outputs": [
    {
     "name": "stdout",
     "output_type": "stream",
     "text": [
      "[1, 3]\n"
     ]
    }
   ],
   "source": [
    "a = [1, 2, 3]\n",
    "a.pop(1)  # 선택부분 pop\n",
    "print(a)"
   ]
  },
  {
   "cell_type": "code",
   "execution_count": 31,
   "id": "47c45c60-bbd4-40b5-ba1a-1c9f0467fb3a",
   "metadata": {},
   "outputs": [
    {
     "name": "stdout",
     "output_type": "stream",
     "text": [
      "[1, 2, 3, 4, 5]\n"
     ]
    }
   ],
   "source": [
    "# 리스트 확장\n",
    "a = [1, 2, 3]\n",
    "a.extend([4, 5])\n",
    "print(a)"
   ]
  },
  {
   "cell_type": "markdown",
   "id": "68f3d5c2-209c-4d6c-a81e-870ae525da2b",
   "metadata": {},
   "source": [
    "# 튜플 자료형"
   ]
  },
  {
   "cell_type": "code",
   "execution_count": 34,
   "id": "e13b6e62-e44f-463a-bc7a-dd41f6c77e04",
   "metadata": {},
   "outputs": [],
   "source": [
    "t1 = ()\n",
    "t2 = (1,)\n",
    "t3 = (1,2,3)\n",
    "t4 = 1,2,3\n",
    "t5 = ('a', 'b', ('ab', 'cd'))"
   ]
  },
  {
   "cell_type": "code",
   "execution_count": 36,
   "id": "95d0181d-9ef1-4b75-be0f-9c5a9c52c879",
   "metadata": {},
   "outputs": [],
   "source": [
    "# 튜플은 요소값을 삭제하거나 수정할 수 없다"
   ]
  },
  {
   "cell_type": "code",
   "execution_count": 1,
   "id": "7453b654-2c76-4240-b6f6-c41bab47e0ae",
   "metadata": {},
   "outputs": [],
   "source": [
    "# 인덱싱    ex) t5[0]\n",
    "# 슬라이싱  ex) t5[2:]\n",
    "# 튜플 합치기 ex) t3 = t1 + t2\n",
    "# 튜플 곱하기 ex) t3 = t2 * 2  --> 2번 반복출력\n",
    "# 튜플 길이 구하기 ex) len(t5)"
   ]
  },
  {
   "cell_type": "markdown",
   "id": "1a6ccb44-91fa-4d64-b9a2-53ecc8f9fa4f",
   "metadata": {},
   "source": [
    "# 딕셔너리 자료형\n",
    "- {키:값, 키:값, ...}"
   ]
  },
  {
   "cell_type": "code",
   "execution_count": 2,
   "id": "032c305c-f498-488a-9134-e0792af225cf",
   "metadata": {},
   "outputs": [],
   "source": [
    "dic = {'name': 'pey', 'phone': '010-1234-1234', 'birth': '1118'}"
   ]
  },
  {
   "cell_type": "code",
   "execution_count": 3,
   "id": "007dc736-aa52-41bf-93e0-c8a3902bcf4c",
   "metadata": {},
   "outputs": [
    {
     "name": "stdout",
     "output_type": "stream",
     "text": [
      "pey\n"
     ]
    }
   ],
   "source": [
    "print(dic['name'])"
   ]
  },
  {
   "cell_type": "code",
   "execution_count": 5,
   "id": "585cedf9-3a04-4789-957e-57d0dcbcd9ba",
   "metadata": {},
   "outputs": [
    {
     "data": {
      "text/plain": [
       "'010-1234-1234'"
      ]
     },
     "execution_count": 5,
     "metadata": {},
     "output_type": "execute_result"
    }
   ],
   "source": [
    "# 값 안에 값  꺼내기\n",
    "dic2 = {'aa':{'name': 'pey', 'phone': '010-1234-1234', 'birth': '1118'}}\n",
    "dic2['aa']['phone']"
   ]
  },
  {
   "cell_type": "code",
   "execution_count": 6,
   "id": "8d5f125a-24e3-4fff-922c-ddc7eff4864d",
   "metadata": {},
   "outputs": [
    {
     "name": "stdout",
     "output_type": "stream",
     "text": [
      "{'name': 'pey', 'phone': '010-1234-1234', 'birth': '1118', 'adress': 'busan'}\n"
     ]
    }
   ],
   "source": [
    "# 딕셔너리 쌍 추가\n",
    "dic[\"adress\"] = \"busan\"\n",
    "print(dic)"
   ]
  },
  {
   "cell_type": "code",
   "execution_count": 8,
   "id": "8b94774d-b7ed-44f8-849d-69a1975b9c19",
   "metadata": {},
   "outputs": [
    {
     "name": "stdout",
     "output_type": "stream",
     "text": [
      "{'name': 'pey', 'phone': '010-1234-1234', 'birth': '1118'}\n"
     ]
    }
   ],
   "source": [
    "# 딕셔너리 쌍 삭제\n",
    "del dic[\"adress\"]\n",
    "print(dic)"
   ]
  },
  {
   "cell_type": "code",
   "execution_count": 9,
   "id": "4fbd1b83-7092-4d80-9131-5d756149da1d",
   "metadata": {},
   "outputs": [],
   "source": [
    "# 딕셔너리 생성 시 주의사항\n",
    "# 키 값 중복 불가\n",
    "# 키 값이 중복되면 먼저 들어간 값을 무시하는 오류 발생"
   ]
  },
  {
   "cell_type": "code",
   "execution_count": 13,
   "id": "4f8211aa-1d7f-48d3-a277-e6a62554e5bd",
   "metadata": {},
   "outputs": [],
   "source": [
    "a = {'name': 'pey', 'phone': '010-1234-1234', 'birth': '1118', 'adress': 'busan', 'array': [1, 2, 3, 4, 5]}"
   ]
  },
  {
   "cell_type": "code",
   "execution_count": 14,
   "id": "1210bfc4-6da1-4cf0-a0fb-2e7e12ef323c",
   "metadata": {},
   "outputs": [
    {
     "name": "stdout",
     "output_type": "stream",
     "text": [
      "dict_keys(['name', 'phone', 'birth', 'adress', 'array'])\n",
      "dict_values(['pey', '010-1234-1234', '1118', 'busan', [1, 2, 3, 4, 5]])\n",
      "dict_items([('name', 'pey'), ('phone', '010-1234-1234'), ('birth', '1118'), ('adress', 'busan'), ('array', [1, 2, 3, 4, 5])])\n",
      "{'name': 'pey', 'phone': '010-1234-1234', 'birth': '1118', 'adress': 'busan', 'array': [1, 2, 3, 4, 5]}\n",
      "{}\n"
     ]
    }
   ],
   "source": [
    "# key 리스트 만들기 - keys\n",
    "print(a.keys())               # 키값만 출력\n",
    "# value 리스트 만들기 - values\n",
    "print(a.values())             # 값만 출력\n",
    "# key, value 쌍 얻기 - items\n",
    "print(a.items())              # 둘 다 출력\n",
    "# key:value 쌍 모두 지우기 - clear\n",
    "print(a)\n",
    "a.clear()  # 삭제\n",
    "print(a)"
   ]
  },
  {
   "cell_type": "code",
   "execution_count": 16,
   "id": "efac8a23-c109-4053-baff-61ff58b53f3a",
   "metadata": {},
   "outputs": [
    {
     "name": "stdout",
     "output_type": "stream",
     "text": [
      "pey\n",
      "None\n"
     ]
    }
   ],
   "source": [
    "# key로 value값 얻기\n",
    "a = {'name': 'pey', 'phone': '010-1234-1234', 'birth': '1118', 'adress': 'busan', 'array': [1, 2, 3, 4, 5]}\n",
    "print(a.get('name'))\n",
    "print(a.get('super'))  # 없는 키는 None이라고 나옴"
   ]
  },
  {
   "cell_type": "code",
   "execution_count": 17,
   "id": "7c1c916c-e317-4e7e-8624-8c680fcc94cb",
   "metadata": {},
   "outputs": [
    {
     "name": "stdout",
     "output_type": "stream",
     "text": [
      "True\n"
     ]
    }
   ],
   "source": [
    "# 해당 key가 딕셔너리 안에 있는지\n",
    "print('name' in a)"
   ]
  },
  {
   "cell_type": "markdown",
   "id": "b0bffd81-0f7f-4ef7-a753-757a24f42f1d",
   "metadata": {},
   "source": [
    "# 집합자료형"
   ]
  },
  {
   "cell_type": "code",
   "execution_count": 20,
   "id": "7ec9cfd3-d96c-4d15-b39f-345b2863a192",
   "metadata": {},
   "outputs": [
    {
     "name": "stdout",
     "output_type": "stream",
     "text": [
      "{1, 2, 3} <class 'set'>\n",
      "{'o', 'e', 'l', 'H'} <class 'set'>\n"
     ]
    }
   ],
   "source": [
    "# 순서 X, 중복 X\n",
    "s1 = set({1,2,3})\n",
    "print(s1, type(s1))\n",
    "s2 = set(\"Hello\")\n",
    "print(s2, type(s2))  # 순서 X, 중복 X"
   ]
  },
  {
   "cell_type": "code",
   "execution_count": 21,
   "id": "b0353511-cf08-4e61-b540-9f2317f8ef15",
   "metadata": {},
   "outputs": [
    {
     "name": "stdout",
     "output_type": "stream",
     "text": [
      "[33, 11, 22] <class 'list'>\n",
      "(33, 11, 22) <class 'tuple'>\n"
     ]
    }
   ],
   "source": [
    "# 집합 자료형의 특징\n",
    "s1 = set([11, 22, 33, 11, 22])\n",
    "l1 = list(s1)\n",
    "print(l1, type(l1))\n",
    "t1 = tuple(s1)\n",
    "print(t1, type(t1))"
   ]
  },
  {
   "cell_type": "markdown",
   "id": "66ed00ff-11a0-48c5-9c53-7e1ad3f8225e",
   "metadata": {},
   "source": [
    "## 교집합, 합집합, 차집합 구하기"
   ]
  },
  {
   "cell_type": "code",
   "execution_count": 23,
   "id": "fa02db67-4f29-4c88-8954-28a9feb92d24",
   "metadata": {},
   "outputs": [
    {
     "name": "stdout",
     "output_type": "stream",
     "text": [
      "{4, 5, 6}\n",
      "{4, 5, 6}\n"
     ]
    }
   ],
   "source": [
    "# 교집합   intersection\n",
    "s1 = set([1,2,3,4,5,6])\n",
    "s2 = set([4,5,6,7,8,9])\n",
    "print(s1 & s2)\n",
    "print(s1.intersection(s2))"
   ]
  },
  {
   "cell_type": "code",
   "execution_count": 24,
   "id": "75e5a3f9-7d1a-4d10-b2a4-8018ea9c1589",
   "metadata": {},
   "outputs": [
    {
     "name": "stdout",
     "output_type": "stream",
     "text": [
      "{1, 2, 3, 4, 5, 6, 7, 8, 9}\n",
      "{1, 2, 3, 4, 5, 6, 7, 8, 9}\n"
     ]
    }
   ],
   "source": [
    "# 합집합   union\n",
    "print(s1 | s2)\n",
    "print(s1.union(s2))"
   ]
  },
  {
   "cell_type": "code",
   "execution_count": 25,
   "id": "ed84ddd5-72ee-4b4f-94ad-ef6b9556a4ad",
   "metadata": {},
   "outputs": [
    {
     "name": "stdout",
     "output_type": "stream",
     "text": [
      "{1, 2, 3}\n",
      "{8, 9, 7}\n"
     ]
    }
   ],
   "source": [
    "# 차집합\n",
    "print(s1 - s2)\n",
    "print(s2 - s1)"
   ]
  },
  {
   "cell_type": "code",
   "execution_count": 27,
   "id": "8d7fc3dc-c6de-4302-875c-ba1b7ca20861",
   "metadata": {},
   "outputs": [
    {
     "name": "stdout",
     "output_type": "stream",
     "text": [
      "{1, 2, 3, 4}\n"
     ]
    }
   ],
   "source": [
    "# 값 1개 추가      add\n",
    "s1 = set([1,2,3])\n",
    "s1.add(4)\n",
    "print(s1)"
   ]
  },
  {
   "cell_type": "code",
   "execution_count": 28,
   "id": "e6997bf3-d4dc-427a-b099-a6d2ab820749",
   "metadata": {},
   "outputs": [
    {
     "name": "stdout",
     "output_type": "stream",
     "text": [
      "{1, 2, 3, 4, 5, 6}\n"
     ]
    }
   ],
   "source": [
    "# 값 여러개 추가   update\n",
    "s1 = set([1,2,3])\n",
    "s1.update([4,5,6])\n",
    "print(s1)"
   ]
  },
  {
   "cell_type": "code",
   "execution_count": 29,
   "id": "9436f0b2-9fe5-4809-b391-258355803706",
   "metadata": {},
   "outputs": [
    {
     "name": "stdout",
     "output_type": "stream",
     "text": [
      "{1, 3}\n"
     ]
    }
   ],
   "source": [
    "# 특정값 제거      remove\n",
    "s1 = set([1,2,3])\n",
    "s1.remove(2)\n",
    "print(s1)"
   ]
  },
  {
   "cell_type": "markdown",
   "id": "913d53b0-a879-4f1a-a8fd-89a773bcbdd1",
   "metadata": {},
   "source": [
    "## 리스트의 옅은복사 깊은복사"
   ]
  },
  {
   "cell_type": "code",
   "execution_count": 30,
   "id": "3f2c8f67-284d-4369-bdde-2fd5fbf91272",
   "metadata": {},
   "outputs": [
    {
     "name": "stdout",
     "output_type": "stream",
     "text": [
      "[1, 2, 3] 1491845540800\n",
      "[1, 2, 3] 1491845540800\n",
      "[1, 7, 3] 1491845540800\n",
      "[1, 7, 3] 1491845540800\n"
     ]
    }
   ],
   "source": [
    "a = [1,2,3]\n",
    "b = a    # b에 a 삽입\n",
    "print(a, id(a))  # a 아이디\n",
    "print(b, id(b))  # b 아이디 (a와 같음)\n",
    "b[1] = 7  # b[1]에 7 삽입\n",
    "print(a, id(a))  # a의 값도 같이 교체\n",
    "print(b, id(b))"
   ]
  },
  {
   "cell_type": "code",
   "execution_count": 31,
   "id": "57828bd1-a991-40a4-ab02-bce7c3bc850b",
   "metadata": {},
   "outputs": [
    {
     "data": {
      "text/plain": [
       "True"
      ]
     },
     "execution_count": 31,
     "metadata": {},
     "output_type": "execute_result"
    }
   ],
   "source": [
    "a is b"
   ]
  },
  {
   "cell_type": "code",
   "execution_count": 32,
   "id": "84cba526-a356-460d-ad73-3d0a8bb5ac17",
   "metadata": {},
   "outputs": [
    {
     "name": "stdout",
     "output_type": "stream",
     "text": [
      "[11, 22, 33] 1491845404352\n",
      "[11, 22, 33] 1491845501632\n",
      "[11, 22, 33] 1491845404352\n",
      "[11, 77, 33] 1491845501632\n"
     ]
    }
   ],
   "source": [
    "from copy import copy\n",
    "c = [11,22,33]\n",
    "# d = copy(c)      방식1\n",
    "# d = c[:]         방식2\n",
    "d = c.copy()     # 방식3  # d에 c값을 복사\n",
    "print(c, id(c))  # c 아이디 출력\n",
    "print(d, id(d))  # d 아이디 출력 (c와 다름)\n",
    "d[1] = 77        # d[1]에 77 삽입\n",
    "print(c, id(c))  \n",
    "print(d, id(d))  # d[1] 값이 77로 바뀐채 출력"
   ]
  },
  {
   "cell_type": "code",
   "execution_count": 33,
   "id": "33d221d7-452d-49f7-b5a7-f8aefc7e5de0",
   "metadata": {},
   "outputs": [
    {
     "data": {
      "text/plain": [
       "False"
      ]
     },
     "execution_count": 33,
     "metadata": {},
     "output_type": "execute_result"
    }
   ],
   "source": [
    "c is d"
   ]
  },
  {
   "cell_type": "code",
   "execution_count": null,
   "id": "4cab2499-8f3d-48ae-bcaf-ab95e6d314b4",
   "metadata": {},
   "outputs": [],
   "source": []
  }
 ],
 "metadata": {
  "kernelspec": {
   "display_name": "Python 3 (ipykernel)",
   "language": "python",
   "name": "python3"
  },
  "language_info": {
   "codemirror_mode": {
    "name": "ipython",
    "version": 3
   },
   "file_extension": ".py",
   "mimetype": "text/x-python",
   "name": "python",
   "nbconvert_exporter": "python",
   "pygments_lexer": "ipython3",
   "version": "3.13.1"
  }
 },
 "nbformat": 4,
 "nbformat_minor": 5
}
