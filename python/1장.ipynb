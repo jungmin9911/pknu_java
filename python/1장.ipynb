{
 "cells": [
  {
   "cell_type": "markdown",
   "id": "58593a66-039c-4a12-953f-1c8bc0e22cf6",
   "metadata": {},
   "source": [
    "# 출력 기초"
   ]
  },
  {
   "cell_type": "code",
   "execution_count": 3,
   "id": "c6c738ad-c1c6-4b42-b6e4-4372c1e015f9",
   "metadata": {},
   "outputs": [
    {
     "name": "stdout",
     "output_type": "stream",
     "text": [
      "줄 띄움\n"
     ]
    }
   ],
   "source": [
    "print(\"줄 띄움\", end=\"\\n\")"
   ]
  },
  {
   "cell_type": "code",
   "execution_count": 4,
   "id": "9f575a23-1dbf-4386-86b2-a5bf7a557cd1",
   "metadata": {},
   "outputs": [
    {
     "name": "stdout",
     "output_type": "stream",
     "text": [
      "내용 덮어쓰기\n"
     ]
    }
   ],
   "source": [
    "import time as t\n",
    "print(\"덮어쓰기\", end=\"\\r\")\n",
    "t.sleep(1)\n",
    "print(\"내용 덮어쓰기\")"
   ]
  },
  {
   "cell_type": "code",
   "execution_count": 6,
   "id": "50cfbf20-440b-46c1-af4e-38681af427bf",
   "metadata": {},
   "outputs": [
    {
     "name": "stdout",
     "output_type": "stream",
     "text": [
      "1-2-3\n"
     ]
    }
   ],
   "source": [
    "print(1,2,3,sep=\"-\")  # 숫자 사이에 하이픈"
   ]
  },
  {
   "cell_type": "code",
   "execution_count": 12,
   "id": "ef286ed8-6151-4060-a430-bf58b0bc6823",
   "metadata": {},
   "outputs": [
    {
     "name": "stdout",
     "output_type": "stream",
     "text": [
      "        hi\n",
      "hi        \n"
     ]
    }
   ],
   "source": [
    "print(\"%10s\" %\"hi\")  # 앞으로 10칸 띄우기\n",
    "print(\"%-10s\" %\"hi\")  # 뒤로 10칸 띄우기"
   ]
  },
  {
   "cell_type": "markdown",
   "id": "dee21640-7c4c-4a91-9479-b53b5daecdca",
   "metadata": {},
   "source": [
    "## http 웹사이트 요청"
   ]
  },
  {
   "cell_type": "code",
   "execution_count": 9,
   "id": "67eb9161-df80-47f0-884c-218284d24c01",
   "metadata": {},
   "outputs": [
    {
     "name": "stdout",
     "output_type": "stream",
     "text": [
      "한국서 돈벌고 '나 몰라라' 코스트코… 연회비 인상률은 미국의 2배\n"
     ]
    }
   ],
   "source": [
    "import requests  # http 웹사이트 소스코드 가져올때 사용하는 모듈\n",
    "url = 'https://v.daum.net/v/20250203151815463'\n",
    "res = requests.get(url).text  # url 소스코드 text로 가져오기\n",
    "print(res[374:411])  # 특정 부분만 출력"
   ]
  },
  {
   "cell_type": "code",
   "execution_count": null,
   "id": "b2648a05-659c-4bc8-90a8-016b7e5df0fa",
   "metadata": {},
   "outputs": [],
   "source": []
  }
 ],
 "metadata": {
  "kernelspec": {
   "display_name": "Python 3 (ipykernel)",
   "language": "python",
   "name": "python3"
  },
  "language_info": {
   "codemirror_mode": {
    "name": "ipython",
    "version": 3
   },
   "file_extension": ".py",
   "mimetype": "text/x-python",
   "name": "python",
   "nbconvert_exporter": "python",
   "pygments_lexer": "ipython3",
   "version": "3.13.1"
  }
 },
 "nbformat": 4,
 "nbformat_minor": 5
}
